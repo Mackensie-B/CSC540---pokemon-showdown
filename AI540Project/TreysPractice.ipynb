{
 "cells": [
  {
   "cell_type": "code",
   "execution_count": null,
   "metadata": {},
   "outputs": [],
   "source": [
    "import asyncio\n",
    "from poke_env.player.player import Player\n",
    "from poke_env.player.random_player import RandomPlayer\n",
    "import time\n",
    "import pandas as pd\n",
    "\n",
    "pd.options.display.max_rows = 9999\n",
    "pd.options.display.max_columns = 9999\n",
    "\n",
    "pokeType = pd.read_csv('PTC.csv')\n",
    "\n",
    "# pokeType.iloc[Row selection, Column selection]\n",
    "\n",
    "fightAttack = pokeType.iloc[2, 1]\n",
    "\n",
    "normalAttack = pokeType.iloc[1, 1]\n",
    "\n",
    "flyingAttack = pokeType.iloc[3, 1]\n",
    "\n",
    "poisonAttack = pokeType.iloc[4, 1]\n",
    "\n",
    "groundAttack = pokeType.iloc[5, 1]\n",
    "\n",
    "rockAttack = pokeType.iloc[6, 1]\n",
    "\n",
    "bugAttack = pokeType.iloc[7, 1]\n",
    "\n",
    "ghostAttack = pokeType.iloc[8, 1]\n",
    "\n",
    "steelAttack = pokeType.iloc[9, 1]\n",
    "\n",
    "fireAttack = pokeType.iloc[10, 1]\n",
    "\n",
    "waterAttack = pokeType.iloc[11, 1]\n",
    "\n",
    "grassAttack = pokeType.iloc[12, 1]\n",
    "\n",
    "electricAttack = pokeType.iloc[13, 1]\n",
    "\n",
    "psychicAttack = pokeType.iloc[14, 1]\n",
    "\n",
    "iceAttack = pokeType.iloc[15, 1]\n",
    "\n",
    "dragonAttack = pokeType.iloc[16, 1]\n",
    "\n",
    "darkAttack = pokeType.iloc[17, 1]\n",
    "\n",
    "fairyAttack = pokeType.iloc[18, 1]\n",
    "\n",
    "print(fightAttack)\n",
    "print(normalAttack)\n",
    "print(flyingAttack)\n",
    "print(pokeType)"
   ]
  },
  {
   "cell_type": "code",
   "execution_count": null,
   "metadata": {},
   "outputs": [],
   "source": [
    "if (normalAttack):\n",
    "    print(\"Attacking move is: \", pokeType.iloc[1, 1])\n",
    "    for i in range(20):\n",
    "        if pokeType.iloc[1, i] == \"2×\": # checking for Normal type attacks vs SuperEffective types\n",
    "            print(pokeType.iloc[1, 1], \" will deal: \", pokeType.iloc[1, i], \" to opponents with type \", pokeType.iloc[i-1, 1])\n",
    "\n",
    "    for i in range(20): # check for opponent immunity\n",
    "        if pokeType.iloc[1, i] == \"0×\":\n",
    "            print(pokeType.iloc[1, 1], \" will deal: \", pokeType.iloc[1, i], \" to opponents with type \", pokeType.iloc[i-1, 1])"
   ]
  },
  {
   "cell_type": "code",
   "execution_count": null,
   "metadata": {},
   "outputs": [],
   "source": [
    "# pokeType.iloc[Row selection, Column selection]\n",
    "if (fightAttack):\n",
    "    print(\"Attacking move is: \", pokeType.iloc[2, 1])\n",
    "    for i in range(2, 20):\n",
    "        if pokeType.iloc[2, i] == \"2×\": # checking for Fighting type attacks vs SuperEffective types\n",
    "            print(pokeType.iloc[2, 1], \" will deal: \", pokeType.iloc[2, i], \" to opponents with type \", pokeType.iloc[i-1, 1])\n",
    "\n",
    "    for i in range(2, 20): # check for opponent immunity\n",
    "        if pokeType.iloc[2, i] == \"0×\":\n",
    "            print(pokeType.iloc[2, 1], \" will deal: \", pokeType.iloc[2, i], \" to opponents with type \", pokeType.iloc[i-1, 1])"
   ]
  },
  {
   "cell_type": "code",
   "execution_count": null,
   "metadata": {},
   "outputs": [],
   "source": [
    "# for type1\n",
    "if (flyingAttack):\n",
    "    print(\"Attacking move is: \", pokeType.iloc[3, 1])\n",
    "    for i in range(2, 20):\n",
    "        print(pokeType.iloc[3, 1], \" will deal: \", pokeType.iloc[3, i], \" to opponents with type \", pokeType.iloc[i-1, 1])\n",
    "        typeEffectMultiplier = pokeType.iloc[3, i]\n",
    "        # full equation with typeEffectMultiplier?\n",
    "        # or just return the value?\n",
    "        # return pokeType.iloc[3, i]\n",
    "        # node = stab * type1 effectivness * typ2 effectiveness * base power\n",
    "        # if no stab, and typ1 is 2x and typ2 is 0.5 then value = (no stab = 1)(2)(0.5)base power = base power\n",
    "        # with stab would be 1.5 * 2 * 0.5 * basepower = 1.5 * basepower\n",
    "\n",
    "# do it again for type2? if no type2 return 1?"
   ]
  },
  {
   "cell_type": "code",
   "execution_count": null,
   "metadata": {},
   "outputs": [],
   "source": [
    "if (poisonAttack):\n",
    "    print(\"Attacking move is: \", pokeType.iloc[4, 1])\n",
    "\n",
    "    for i in range(2, 20):\n",
    "        #if pokeType.iloc[4, i] == \"2×\": # checking for Fighting type attacks vs SuperEffective types\n",
    "        print(pokeType.iloc[4, 1], \" will deal: \", pokeType.iloc[4, i], \" to opponents with type \", pokeType.iloc[i-1, 1])\n",
    "\n",
    "\n",
    "    for i in range(20): # check for opponent immunity\n",
    "        if pokeType.iloc[4, i] == \"0×\":\n",
    "            print(pokeType.iloc[4, 1], \" will deal: \", pokeType.iloc[4, i], \" to opponents with type \", pokeType.iloc[i-1, 1])"
   ]
  },
  {
   "cell_type": "code",
   "execution_count": null,
   "metadata": {},
   "outputs": [],
   "source": [
    "if (groundAttack):\n",
    "    print(\"Attacking move is: \", pokeType.iloc[5, 1])\n",
    "    for i in range(20):\n",
    "        if pokeType.iloc[5, i] == \"2×\": # checking for Fighting type attacks vs SuperEffective types\n",
    "            print(pokeType.iloc[5, 1], \" will deal: \", pokeType.iloc[5, i], \" to opponents with type \", pokeType.iloc[i-1, 1])"
   ]
  },
  {
   "cell_type": "code",
   "execution_count": null,
   "metadata": {},
   "outputs": [],
   "source": [
    "if (rockAttack):\n",
    "    print(\"Attacking move is: \", pokeType.iloc[6, 1])\n",
    "    for i in range(20):\n",
    "        if pokeType.iloc[6, i] == \"2×\": # checking for Fighting type attacks vs SuperEffective types\n",
    "            print(pokeType.iloc[6, 1], \" will deal: \", pokeType.iloc[6, i], \" to opponents with type \", pokeType.iloc[i-1, 1])"
   ]
  },
  {
   "cell_type": "code",
   "execution_count": null,
   "metadata": {},
   "outputs": [],
   "source": [
    "if (bugAttack):\n",
    "    print(\"Attacking move is: \", pokeType.iloc[7, 1])\n",
    "    for i in range(20):\n",
    "        if pokeType.iloc[7, i] == \"2×\": # checking for Fighting type attacks vs SuperEffective types\n",
    "            print(pokeType.iloc[7, 1], \" will deal: \", pokeType.iloc[7, i], \" to opponents with type \", pokeType.iloc[i-1, 1])"
   ]
  },
  {
   "cell_type": "code",
   "execution_count": null,
   "metadata": {},
   "outputs": [],
   "source": [
    "if (ghostAttack):\n",
    "    print(\"Attacking move is: \", pokeType.iloc[8, 1])\n",
    "    for i in range(20):\n",
    "        if pokeType.iloc[8, i] == \"2×\": # checking for Fighting type attacks vs SuperEffective types\n",
    "            print(pokeType.iloc[8, 1], \" will deal: \", pokeType.iloc[8, i], \" to opponents with type \", pokeType.iloc[i-1, 1])"
   ]
  },
  {
   "cell_type": "code",
   "execution_count": null,
   "metadata": {},
   "outputs": [],
   "source": [
    "if (steelAttack):\n",
    "    print(\"Attacking move is: \", pokeType.iloc[9, 1])\n",
    "    for i in range(20):\n",
    "        if pokeType.iloc[9, i] == \"2×\": # checking for Fighting type attacks vs SuperEffective types\n",
    "            print(pokeType.iloc[9, 1], \" will deal: \", pokeType.iloc[9, i], \" to opponents with type \", pokeType.iloc[i-1, 1])"
   ]
  },
  {
   "cell_type": "code",
   "execution_count": null,
   "metadata": {},
   "outputs": [],
   "source": [
    "if (fireAttack):\n",
    "    print(\"Attacking move is: \", pokeType.iloc[10, 1])\n",
    "    for i in range(20):\n",
    "        if pokeType.iloc[10, i] == \"2×\": # checking for Fighting type attacks vs SuperEffective types\n",
    "            print(pokeType.iloc[10, 1], \" will deal: \", pokeType.iloc[10, i], \" to opponents with type \", pokeType.iloc[i-1, 1])"
   ]
  },
  {
   "cell_type": "code",
   "execution_count": null,
   "metadata": {},
   "outputs": [],
   "source": [
    "if (waterAttack):\n",
    "    print(\"Attacking move is: \", pokeType.iloc[11, 1])\n",
    "    for i in range(20):\n",
    "        if pokeType.iloc[11, i] == \"2×\": # checking for Fighting type attacks vs SuperEffective types\n",
    "            print(pokeType.iloc[11, 1], \" will deal: \", pokeType.iloc[11, i], \" to opponents with type \", pokeType.iloc[i-1, 1])"
   ]
  },
  {
   "cell_type": "code",
   "execution_count": null,
   "metadata": {},
   "outputs": [],
   "source": [
    "if (grassAttack):\n",
    "    print(\"Attacking move is: \", pokeType.iloc[12, 1])\n",
    "    for i in range(20):\n",
    "        if pokeType.iloc[12, i] == \"2×\": # checking for Fighting type attacks vs SuperEffective types\n",
    "            print(pokeType.iloc[12, 1], \" will deal: \", pokeType.iloc[12, i], \" to opponents with type \", pokeType.iloc[i-1, 1])"
   ]
  },
  {
   "cell_type": "code",
   "execution_count": null,
   "metadata": {},
   "outputs": [],
   "source": [
    "if (electricAttack):\n",
    "    print(\"Attacking move is: \", pokeType.iloc[13, 1])\n",
    "    for i in range(20):\n",
    "        if pokeType.iloc[13, i] == \"2×\": # checking for Fighting type attacks vs SuperEffective types\n",
    "            print(pokeType.iloc[13, 1], \" will deal: \", pokeType.iloc[13, i], \" to opponents with type \", pokeType.iloc[i-1, 1])"
   ]
  },
  {
   "cell_type": "code",
   "execution_count": null,
   "metadata": {},
   "outputs": [],
   "source": [
    "if (psychicAttack):\n",
    "    print(\"Attacking move is: \", pokeType.iloc[14, 1])\n",
    "    for i in range(20):\n",
    "        if pokeType.iloc[14, i] == \"2×\": # checking for Fighting type attacks vs SuperEffective types\n",
    "            print(pokeType.iloc[14, 1], \" will deal: \", pokeType.iloc[14, i], \" to opponents with type \", pokeType.iloc[i-1, 1])"
   ]
  },
  {
   "cell_type": "code",
   "execution_count": null,
   "metadata": {},
   "outputs": [],
   "source": [
    "if (iceAttack):\n",
    "    print(\"Attacking move is: \", pokeType.iloc[15, 1])\n",
    "    for i in range(20):\n",
    "        if pokeType.iloc[15, i] == \"2×\": # checking for Fighting type attacks vs SuperEffective types\n",
    "            print(pokeType.iloc[15, 1], \" will deal: \", pokeType.iloc[15, i], \" to opponents with type \", pokeType.iloc[i-1, 1])"
   ]
  },
  {
   "cell_type": "code",
   "execution_count": null,
   "metadata": {},
   "outputs": [],
   "source": [
    "if (dragonAttack):\n",
    "    print(\"Attacking move is: \", pokeType.iloc[16, 1])\n",
    "    for i in range(20):\n",
    "        if pokeType.iloc[16, i] == \"2×\": # checking for Fighting type attacks vs SuperEffective types\n",
    "            print(pokeType.iloc[16, 1], \" will deal: \", pokeType.iloc[16, i], \" to opponents with type \", pokeType.iloc[i-1, 1])"
   ]
  },
  {
   "cell_type": "code",
   "execution_count": null,
   "metadata": {},
   "outputs": [],
   "source": [
    "if (darkAttack):\n",
    "    print(\"Attacking move is: \", pokeType.iloc[17, 1])\n",
    "    for i in range(20):\n",
    "        if pokeType.iloc[17, i] == \"2×\": # checking for Fighting type attacks vs SuperEffective types\n",
    "            print(pokeType.iloc[17, 1], \" will deal: \", pokeType.iloc[17, i], \" to opponents with type \", pokeType.iloc[i-1, 1])"
   ]
  },
  {
   "cell_type": "code",
   "execution_count": null,
   "metadata": {},
   "outputs": [],
   "source": [
    "if (fairyAttack):\n",
    "    print(\"Attacking move is: \", pokeType.iloc[18, 1])\n",
    "    for i in range(20):\n",
    "        if pokeType.iloc[18, i] == \"2×\": # checking for Fighting type attacks vs SuperEffective types\n",
    "            print(pokeType.iloc[18, 1], \" will deal: \", pokeType.iloc[18, i], \" to opponents with type \", pokeType.iloc[i-1, 1])"
   ]
  },
  {
   "cell_type": "code",
   "execution_count": null,
   "metadata": {},
   "outputs": [],
   "source": [
    "### Formula\n",
    "\n",
    "    # full equation with typeEffectMultiplier?\n",
    "    # or just return the value?\n",
    "    # return pokeType.iloc[3, i]\n",
    "    # node = stab * type1 effectivness * typ2 effectiveness * base power\n",
    "    # if no stab, and typ1 is 2x and typ2 is 0.5 then value = (no stab = 1)(2)(0.5)base power = base power\n",
    "    # with stab would be 1.5 * 2 * 0.5 * basepower = 1.5 * basepower\n",
    "\n",
    "# do it again for type2? if no type2 return 1?\n",
    "\n",
    "if pokeType == node.Pokemon.type:\n",
    "    stab =  1.5\n",
    "else:\n",
    "    stab =  1\n",
    "\n",
    "\n",
    "node = stab * bestMoveforType1 * bestMoveforType2 * node.Pokemon.Move.power"
   ]
  },
  {
   "cell_type": "code",
   "execution_count": null,
   "metadata": {},
   "outputs": [],
   "source": [
    "### This cell will check for multi types and multiply defensive type weaknesses to specific attack types\n",
    "### From the attacker's side, check opponent type weakness if doubled\n"
   ]
  }
 ],
 "metadata": {
  "language_info": {
   "name": "python"
  },
  "orig_nbformat": 4
 },
 "nbformat": 4,
 "nbformat_minor": 2
}
