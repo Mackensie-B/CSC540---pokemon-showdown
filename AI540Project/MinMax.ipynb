{
 "cells": [
  {
   "cell_type": "code",
   "execution_count": 21,
   "metadata": {},
   "outputs": [
    {
     "name": "stdout",
     "output_type": "stream",
     "text": [
      "FIGHTING\n",
      "NORMAL\n",
      "FLYING\n"
     ]
    }
   ],
   "source": [
    "import asyncio\n",
    "from poke_env.player.player import Player\n",
    "from poke_env.player.random_player import RandomPlayer\n",
    "import time\n",
    "import pandas as pd\n",
    "\n",
    "pd.options.display.max_rows = 9999\n",
    "pd.options.display.max_columns = 9999\n",
    "\n",
    "pokeType = pd.read_csv('PTC.csv')\n",
    "\n",
    "# pokeType.iloc[Row selection, Column selection]\n",
    "\n",
    "fightAttack = pokeType.iloc[2, 1]\n",
    "\n",
    "normalAttack = pokeType.iloc[1, 1]\n",
    "\n",
    "flyingAttack = pokeType.iloc[3, 1]\n",
    "\n",
    "poisonAttack = pokeType.iloc[4, 1]\n",
    "\n",
    "groundAttack = pokeType.iloc[5, 1]\n",
    "\n",
    "rockAttack = pokeType.iloc[6, 1]\n",
    "\n",
    "bugAttack = pokeType.iloc[7, 1]\n",
    "\n",
    "ghostAttack = pokeType.iloc[8, 1]\n",
    "\n",
    "steelAttack = pokeType.iloc[9, 1]\n",
    "\n",
    "fireAttack = pokeType.iloc[10, 1]\n",
    "\n",
    "waterAttack = pokeType.iloc[11, 1]\n",
    "\n",
    "grassAttack = pokeType.iloc[12, 1]\n",
    "\n",
    "electricAttack = pokeType.iloc[13, 1]\n",
    "\n",
    "psychicAttack = pokeType.iloc[14, 1]\n",
    "\n",
    "iceAttack = pokeType.iloc[15, 1]\n",
    "\n",
    "dragonAttack = pokeType.iloc[16, 1]\n",
    "\n",
    "darkAttack = pokeType.iloc[17, 1]\n",
    "\n",
    "fairyAttack = pokeType.iloc[18, 1]\n",
    "\n",
    "print(fightAttack)\n",
    "print(normalAttack)\n",
    "print(flyingAttack)"
   ]
  },
  {
   "cell_type": "code",
   "execution_count": 22,
   "metadata": {},
   "outputs": [
    {
     "name": "stdout",
     "output_type": "stream",
     "text": [
      "Attacking move is:  NORMAL\n",
      "NORMAL  will deal:  0×  to opponents with type  GHOST\n"
     ]
    }
   ],
   "source": [
    "if (normalAttack):\n",
    "    print(\"Attacking move is: \", pokeType.iloc[1, 1])\n",
    "    for i in range(20):\n",
    "        if pokeType.iloc[1, i] == \"2×\": # checking for Normal type attacks vs SuperEffective types\n",
    "            print(pokeType.iloc[1, 1], \" will deal: \", pokeType.iloc[1, i], \" to opponents with type \", pokeType.iloc[i-1, 1])\n",
    "\n",
    "    for i in range(20): # check for opponent immunity\n",
    "        if pokeType.iloc[1, i] == \"0×\":\n",
    "            print(pokeType.iloc[1, 1], \" will deal: \", pokeType.iloc[1, i], \" to opponents with type \", pokeType.iloc[i-1, 1])"
   ]
  },
  {
   "cell_type": "code",
   "execution_count": 23,
   "metadata": {},
   "outputs": [
    {
     "name": "stdout",
     "output_type": "stream",
     "text": [
      "Attacking move is:  FIGHTING\n",
      "FIGHTING  will deal:  2×  to opponents with type  NORMAL\n",
      "FIGHTING  will deal:  2×  to opponents with type  ROCK\n",
      "FIGHTING  will deal:  2×  to opponents with type  STEEL\n",
      "FIGHTING  will deal:  2×  to opponents with type  ICE\n",
      "FIGHTING  will deal:  2×  to opponents with type  DARK\n",
      "FIGHTING  will deal:  0×  to opponents with type  GHOST\n"
     ]
    }
   ],
   "source": [
    "# pokeType.iloc[Row selection, Column selection]\n",
    "if (fightAttack):\n",
    "    print(\"Attacking move is: \", pokeType.iloc[2, 1])\n",
    "    for i in range(2, 20):\n",
    "        if pokeType.iloc[2, i] == \"2×\": # checking for Fighting type attacks vs SuperEffective types\n",
    "            print(pokeType.iloc[2, 1], \" will deal: \", pokeType.iloc[2, i], \" to opponents with type \", pokeType.iloc[i-1, 1])\n",
    "\n",
    "    for i in range(2, 20): # check for opponent immunity\n",
    "        if pokeType.iloc[2, i] == \"0×\":\n",
    "            print(pokeType.iloc[2, 1], \" will deal: \", pokeType.iloc[2, i], \" to opponents with type \", pokeType.iloc[i-1, 1])"
   ]
  },
  {
   "cell_type": "code",
   "execution_count": 24,
   "metadata": {},
   "outputs": [
    {
     "name": "stdout",
     "output_type": "stream",
     "text": [
      "Attacking move is:  FLYING\n",
      "FLYING  will deal:  1×  to opponents with type  NORMAL\n",
      "FLYING  will deal:  2×  to opponents with type  FIGHTING\n",
      "FLYING  will deal:  1×  to opponents with type  FLYING\n",
      "FLYING  will deal:  1×  to opponents with type  POISON\n",
      "FLYING  will deal:  1×  to opponents with type  GROUND\n",
      "FLYING  will deal:  ½×  to opponents with type  ROCK\n",
      "FLYING  will deal:  2×  to opponents with type  BUG\n",
      "FLYING  will deal:  1×  to opponents with type  GHOST\n",
      "FLYING  will deal:  ½×  to opponents with type  STEEL\n",
      "FLYING  will deal:  1×  to opponents with type  FIRE\n",
      "FLYING  will deal:  1×  to opponents with type  WATER\n",
      "FLYING  will deal:  2×  to opponents with type  GRASS\n",
      "FLYING  will deal:  ½×  to opponents with type  ELECTRIC\n",
      "FLYING  will deal:  1×  to opponents with type  PSYCHIC\n",
      "FLYING  will deal:  1×  to opponents with type  ICE\n",
      "FLYING  will deal:  1×  to opponents with type  DRAGON\n",
      "FLYING  will deal:  1×  to opponents with type  DARK\n",
      "FLYING  will deal:  1×  to opponents with type  FAIRY\n"
     ]
    }
   ],
   "source": [
    "# for type1\n",
    "if (flyingAttack):\n",
    "    print(\"Attacking move is: \", pokeType.iloc[3, 1])\n",
    "    for i in range(2, 20):\n",
    "        print(pokeType.iloc[3, 1], \" will deal: \", pokeType.iloc[3, i], \" to opponents with type \", pokeType.iloc[i-1, 1])\n",
    "        typeEffectMultiplier = pokeType.iloc[3, i]\n",
    "        # full equation with typeEffectMultiplier?\n",
    "        # or just return the value?\n",
    "        # return pokeType.iloc[3, i]\n",
    "        # node = stab * type1 effectivness * typ2 effectiveness * base power\n",
    "        # if no stab, and typ1 is 2x and typ2 is 0.5 then value = (no stab = 1)(2)(0.5)base power = base power\n",
    "        # with stab would be 1.5 * 2 * 0.5 * basepower = 1.5 * basepower\n",
    "\n",
    "# do it again for type2? if no type2 return 1?"
   ]
  },
  {
   "cell_type": "code",
   "execution_count": 25,
   "metadata": {},
   "outputs": [
    {
     "name": "stdout",
     "output_type": "stream",
     "text": [
      "Attacking move is:  POISON\n",
      "POISON  will deal:  1×  to opponents with type  NORMAL\n",
      "POISON  will deal:  1×  to opponents with type  FIGHTING\n",
      "POISON  will deal:  1×  to opponents with type  FLYING\n",
      "POISON  will deal:  ½×  to opponents with type  POISON\n",
      "POISON  will deal:  ½×  to opponents with type  GROUND\n",
      "POISON  will deal:  ½×  to opponents with type  ROCK\n",
      "POISON  will deal:  1×  to opponents with type  BUG\n",
      "POISON  will deal:  ½×  to opponents with type  GHOST\n",
      "POISON  will deal:  0×  to opponents with type  STEEL\n",
      "POISON  will deal:  1×  to opponents with type  FIRE\n",
      "POISON  will deal:  1×  to opponents with type  WATER\n",
      "POISON  will deal:  2×  to opponents with type  GRASS\n",
      "POISON  will deal:  1×  to opponents with type  ELECTRIC\n",
      "POISON  will deal:  1×  to opponents with type  PSYCHIC\n",
      "POISON  will deal:  1×  to opponents with type  ICE\n",
      "POISON  will deal:  1×  to opponents with type  DRAGON\n",
      "POISON  will deal:  1×  to opponents with type  DARK\n",
      "POISON  will deal:  2×  to opponents with type  FAIRY\n",
      "POISON  will deal:  0×  to opponents with type  STEEL\n"
     ]
    }
   ],
   "source": [
    "if (poisonAttack):\n",
    "    print(\"Attacking move is: \", pokeType.iloc[4, 1])\n",
    "\n",
    "    for i in range(2, 20):\n",
    "        #if pokeType.iloc[4, i] == \"2×\": # checking for Fighting type attacks vs SuperEffective types\n",
    "        print(pokeType.iloc[4, 1], \" will deal: \", pokeType.iloc[4, i], \" to opponents with type \", pokeType.iloc[i-1, 1])\n",
    "\n",
    "\n",
    "    for i in range(20): # check for opponent immunity\n",
    "        if pokeType.iloc[4, i] == \"0×\":\n",
    "            print(pokeType.iloc[4, 1], \" will deal: \", pokeType.iloc[4, i], \" to opponents with type \", pokeType.iloc[i-1, 1])"
   ]
  },
  {
   "cell_type": "code",
   "execution_count": 26,
   "metadata": {},
   "outputs": [
    {
     "name": "stdout",
     "output_type": "stream",
     "text": [
      "Attacking move is:  GROUND\n",
      "GROUND  will deal:  2×  to opponents with type  POISON\n",
      "GROUND  will deal:  2×  to opponents with type  ROCK\n",
      "GROUND  will deal:  2×  to opponents with type  STEEL\n",
      "GROUND  will deal:  2×  to opponents with type  FIRE\n",
      "GROUND  will deal:  2×  to opponents with type  ELECTRIC\n"
     ]
    }
   ],
   "source": [
    "if (groundAttack):\n",
    "    print(\"Attacking move is: \", pokeType.iloc[5, 1])\n",
    "    for i in range(20):\n",
    "        if pokeType.iloc[5, i] == \"2×\": # checking for Fighting type attacks vs SuperEffective types\n",
    "            print(pokeType.iloc[5, 1], \" will deal: \", pokeType.iloc[5, i], \" to opponents with type \", pokeType.iloc[i-1, 1])"
   ]
  },
  {
   "cell_type": "code",
   "execution_count": 27,
   "metadata": {},
   "outputs": [
    {
     "name": "stdout",
     "output_type": "stream",
     "text": [
      "Attacking move is:  ROCK\n",
      "ROCK  will deal:  2×  to opponents with type  FLYING\n",
      "ROCK  will deal:  2×  to opponents with type  BUG\n",
      "ROCK  will deal:  2×  to opponents with type  FIRE\n",
      "ROCK  will deal:  2×  to opponents with type  ICE\n"
     ]
    }
   ],
   "source": [
    "if (rockAttack):\n",
    "    print(\"Attacking move is: \", pokeType.iloc[6, 1])\n",
    "    for i in range(20):\n",
    "        if pokeType.iloc[6, i] == \"2×\": # checking for Fighting type attacks vs SuperEffective types\n",
    "            print(pokeType.iloc[6, 1], \" will deal: \", pokeType.iloc[6, i], \" to opponents with type \", pokeType.iloc[i-1, 1])"
   ]
  },
  {
   "cell_type": "code",
   "execution_count": 28,
   "metadata": {},
   "outputs": [
    {
     "name": "stdout",
     "output_type": "stream",
     "text": [
      "Attacking move is:  BUG\n",
      "BUG  will deal:  2×  to opponents with type  GRASS\n",
      "BUG  will deal:  2×  to opponents with type  PSYCHIC\n",
      "BUG  will deal:  2×  to opponents with type  DARK\n"
     ]
    }
   ],
   "source": [
    "if (bugAttack):\n",
    "    print(\"Attacking move is: \", pokeType.iloc[7, 1])\n",
    "    for i in range(20):\n",
    "        if pokeType.iloc[7, i] == \"2×\": # checking for Fighting type attacks vs SuperEffective types\n",
    "            print(pokeType.iloc[7, 1], \" will deal: \", pokeType.iloc[7, i], \" to opponents with type \", pokeType.iloc[i-1, 1])"
   ]
  },
  {
   "cell_type": "code",
   "execution_count": 29,
   "metadata": {},
   "outputs": [
    {
     "name": "stdout",
     "output_type": "stream",
     "text": [
      "Attacking move is:  GHOST\n",
      "GHOST  will deal:  2×  to opponents with type  GHOST\n",
      "GHOST  will deal:  2×  to opponents with type  PSYCHIC\n"
     ]
    }
   ],
   "source": [
    "if (ghostAttack):\n",
    "    print(\"Attacking move is: \", pokeType.iloc[8, 1])\n",
    "    for i in range(20):\n",
    "        if pokeType.iloc[8, i] == \"2×\": # checking for Fighting type attacks vs SuperEffective types\n",
    "            print(pokeType.iloc[8, 1], \" will deal: \", pokeType.iloc[8, i], \" to opponents with type \", pokeType.iloc[i-1, 1])"
   ]
  },
  {
   "cell_type": "code",
   "execution_count": 30,
   "metadata": {},
   "outputs": [
    {
     "name": "stdout",
     "output_type": "stream",
     "text": [
      "Attacking move is:  STEEL\n",
      "STEEL  will deal:  2×  to opponents with type  ROCK\n",
      "STEEL  will deal:  2×  to opponents with type  ICE\n",
      "STEEL  will deal:  2×  to opponents with type  FAIRY\n"
     ]
    }
   ],
   "source": [
    "if (steelAttack):\n",
    "    print(\"Attacking move is: \", pokeType.iloc[9, 1])\n",
    "    for i in range(20):\n",
    "        if pokeType.iloc[9, i] == \"2×\": # checking for Fighting type attacks vs SuperEffective types\n",
    "            print(pokeType.iloc[9, 1], \" will deal: \", pokeType.iloc[9, i], \" to opponents with type \", pokeType.iloc[i-1, 1])"
   ]
  },
  {
   "cell_type": "code",
   "execution_count": 31,
   "metadata": {},
   "outputs": [
    {
     "name": "stdout",
     "output_type": "stream",
     "text": [
      "Attacking move is:  FIRE\n",
      "FIRE  will deal:  2×  to opponents with type  BUG\n",
      "FIRE  will deal:  2×  to opponents with type  STEEL\n",
      "FIRE  will deal:  2×  to opponents with type  GRASS\n",
      "FIRE  will deal:  2×  to opponents with type  ICE\n"
     ]
    }
   ],
   "source": [
    "if (fireAttack):\n",
    "    print(\"Attacking move is: \", pokeType.iloc[10, 1])\n",
    "    for i in range(20):\n",
    "        if pokeType.iloc[10, i] == \"2×\": # checking for Fighting type attacks vs SuperEffective types\n",
    "            print(pokeType.iloc[10, 1], \" will deal: \", pokeType.iloc[10, i], \" to opponents with type \", pokeType.iloc[i-1, 1])"
   ]
  },
  {
   "cell_type": "code",
   "execution_count": 32,
   "metadata": {},
   "outputs": [
    {
     "name": "stdout",
     "output_type": "stream",
     "text": [
      "Attacking move is:  WATER\n",
      "WATER  will deal:  2×  to opponents with type  GROUND\n",
      "WATER  will deal:  2×  to opponents with type  ROCK\n",
      "WATER  will deal:  2×  to opponents with type  FIRE\n"
     ]
    }
   ],
   "source": [
    "if (waterAttack):\n",
    "    print(\"Attacking move is: \", pokeType.iloc[11, 1])\n",
    "    for i in range(20):\n",
    "        if pokeType.iloc[11, i] == \"2×\": # checking for Fighting type attacks vs SuperEffective types\n",
    "            print(pokeType.iloc[11, 1], \" will deal: \", pokeType.iloc[11, i], \" to opponents with type \", pokeType.iloc[i-1, 1])"
   ]
  },
  {
   "cell_type": "code",
   "execution_count": 33,
   "metadata": {},
   "outputs": [
    {
     "name": "stdout",
     "output_type": "stream",
     "text": [
      "Attacking move is:  GRASS\n",
      "GRASS  will deal:  2×  to opponents with type  GROUND\n",
      "GRASS  will deal:  2×  to opponents with type  ROCK\n",
      "GRASS  will deal:  2×  to opponents with type  WATER\n"
     ]
    }
   ],
   "source": [
    "if (grassAttack):\n",
    "    print(\"Attacking move is: \", pokeType.iloc[12, 1])\n",
    "    for i in range(20):\n",
    "        if pokeType.iloc[12, i] == \"2×\": # checking for Fighting type attacks vs SuperEffective types\n",
    "            print(pokeType.iloc[12, 1], \" will deal: \", pokeType.iloc[12, i], \" to opponents with type \", pokeType.iloc[i-1, 1])"
   ]
  },
  {
   "cell_type": "code",
   "execution_count": 34,
   "metadata": {},
   "outputs": [
    {
     "name": "stdout",
     "output_type": "stream",
     "text": [
      "Attacking move is:  ELECTRIC\n",
      "ELECTRIC  will deal:  2×  to opponents with type  FLYING\n",
      "ELECTRIC  will deal:  2×  to opponents with type  WATER\n"
     ]
    }
   ],
   "source": [
    "if (electricAttack):\n",
    "    print(\"Attacking move is: \", pokeType.iloc[13, 1])\n",
    "    for i in range(20):\n",
    "        if pokeType.iloc[13, i] == \"2×\": # checking for Fighting type attacks vs SuperEffective types\n",
    "            print(pokeType.iloc[13, 1], \" will deal: \", pokeType.iloc[13, i], \" to opponents with type \", pokeType.iloc[i-1, 1])"
   ]
  },
  {
   "cell_type": "code",
   "execution_count": 35,
   "metadata": {},
   "outputs": [
    {
     "name": "stdout",
     "output_type": "stream",
     "text": [
      "Attacking move is:  PSYCHIC\n",
      "PSYCHIC  will deal:  2×  to opponents with type  FIGHTING\n",
      "PSYCHIC  will deal:  2×  to opponents with type  POISON\n"
     ]
    }
   ],
   "source": [
    "if (psychicAttack):\n",
    "    print(\"Attacking move is: \", pokeType.iloc[14, 1])\n",
    "    for i in range(20):\n",
    "        if pokeType.iloc[14, i] == \"2×\": # checking for Fighting type attacks vs SuperEffective types\n",
    "            print(pokeType.iloc[14, 1], \" will deal: \", pokeType.iloc[14, i], \" to opponents with type \", pokeType.iloc[i-1, 1])"
   ]
  },
  {
   "cell_type": "code",
   "execution_count": 36,
   "metadata": {},
   "outputs": [
    {
     "name": "stdout",
     "output_type": "stream",
     "text": [
      "Attacking move is:  ICE\n",
      "ICE  will deal:  2×  to opponents with type  FLYING\n",
      "ICE  will deal:  2×  to opponents with type  GROUND\n",
      "ICE  will deal:  2×  to opponents with type  GRASS\n",
      "ICE  will deal:  2×  to opponents with type  DRAGON\n"
     ]
    }
   ],
   "source": [
    "if (iceAttack):\n",
    "    print(\"Attacking move is: \", pokeType.iloc[15, 1])\n",
    "    for i in range(20):\n",
    "        if pokeType.iloc[15, i] == \"2×\": # checking for Fighting type attacks vs SuperEffective types\n",
    "            print(pokeType.iloc[15, 1], \" will deal: \", pokeType.iloc[15, i], \" to opponents with type \", pokeType.iloc[i-1, 1])"
   ]
  },
  {
   "cell_type": "code",
   "execution_count": 37,
   "metadata": {},
   "outputs": [
    {
     "name": "stdout",
     "output_type": "stream",
     "text": [
      "Attacking move is:  DRAGON\n",
      "DRAGON  will deal:  2×  to opponents with type  DRAGON\n"
     ]
    }
   ],
   "source": [
    "if (dragonAttack):\n",
    "    print(\"Attacking move is: \", pokeType.iloc[16, 1])\n",
    "    for i in range(20):\n",
    "        if pokeType.iloc[16, i] == \"2×\": # checking for Fighting type attacks vs SuperEffective types\n",
    "            print(pokeType.iloc[16, 1], \" will deal: \", pokeType.iloc[16, i], \" to opponents with type \", pokeType.iloc[i-1, 1])"
   ]
  },
  {
   "cell_type": "code",
   "execution_count": 38,
   "metadata": {},
   "outputs": [
    {
     "name": "stdout",
     "output_type": "stream",
     "text": [
      "Attacking move is:  DARK\n",
      "DARK  will deal:  2×  to opponents with type  GHOST\n",
      "DARK  will deal:  2×  to opponents with type  PSYCHIC\n"
     ]
    }
   ],
   "source": [
    "if (darkAttack):\n",
    "    print(\"Attacking move is: \", pokeType.iloc[17, 1])\n",
    "    for i in range(20):\n",
    "        if pokeType.iloc[17, i] == \"2×\": # checking for Fighting type attacks vs SuperEffective types\n",
    "            print(pokeType.iloc[17, 1], \" will deal: \", pokeType.iloc[17, i], \" to opponents with type \", pokeType.iloc[i-1, 1])"
   ]
  },
  {
   "cell_type": "code",
   "execution_count": 39,
   "metadata": {},
   "outputs": [
    {
     "name": "stdout",
     "output_type": "stream",
     "text": [
      "Attacking move is:  FAIRY\n",
      "FAIRY  will deal:  2×  to opponents with type  FIGHTING\n",
      "FAIRY  will deal:  2×  to opponents with type  DRAGON\n",
      "FAIRY  will deal:  2×  to opponents with type  DARK\n"
     ]
    }
   ],
   "source": [
    "if (fairyAttack):\n",
    "    print(\"Attacking move is: \", pokeType.iloc[18, 1])\n",
    "    for i in range(20):\n",
    "        if pokeType.iloc[18, i] == \"2×\": # checking for Fighting type attacks vs SuperEffective types\n",
    "            print(pokeType.iloc[18, 1], \" will deal: \", pokeType.iloc[18, i], \" to opponents with type \", pokeType.iloc[i-1, 1])"
   ]
  },
  {
   "cell_type": "code",
   "execution_count": null,
   "metadata": {},
   "outputs": [],
   "source": [
    "### Formula\n",
    "\n",
    "    # full equation with typeEffectMultiplier?\n",
    "    # or just return the value?\n",
    "    # return pokeType.iloc[3, i]\n",
    "    # node = stab * type1 effectivness * typ2 effectiveness * base power\n",
    "    # if no stab, and typ1 is 2x and typ2 is 0.5 then value = (no stab = 1)(2)(0.5)base power = base power\n",
    "    # with stab would be 1.5 * 2 * 0.5 * basepower = 1.5 * basepower\n",
    "\n",
    "# do it again for type2? if no type2 return 1?\n",
    "\n",
    "if pokeType == node.Pokemon.type:\n",
    "    stab =  1.5\n",
    "else:\n",
    "    stab =  1\n",
    "\n",
    "\n",
    "node = stab * bestMoveforType1 * bestMoveforType2 * node.Pokemon.Move.power"
   ]
  },
  {
   "cell_type": "code",
   "execution_count": 40,
   "metadata": {},
   "outputs": [],
   "source": [
    "### This cell will check for multi types and multiply defensive type weaknesses to specific attack types\n",
    "### From the attacker's side, check opponent type weakness if doubled\n"
   ]
  }
 ],
 "metadata": {
  "interpreter": {
   "hash": "74838c64e0c26849ea73be719a2ee76b188028e15bfb343a13c98301681d6caf"
  },
  "kernelspec": {
   "display_name": "Python 3.10.4 64-bit",
   "language": "python",
   "name": "python3"
  },
  "language_info": {
   "codemirror_mode": {
    "name": "ipython",
    "version": 3
   },
   "file_extension": ".py",
   "mimetype": "text/x-python",
   "name": "python",
   "nbconvert_exporter": "python",
   "pygments_lexer": "ipython3",
   "version": "3.10.4"
  },
  "orig_nbformat": 4
 },
 "nbformat": 4,
 "nbformat_minor": 2
}
